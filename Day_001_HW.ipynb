{
 "cells": [
  {
   "cell_type": "markdown",
   "metadata": {},
   "source": [
    "## 作业1\n",
    "1.我选择的dataset 是 suicide-rates-overview-1985-to-2016\n",
    "2.数据来源：This compiled dataset pulled from four other datasets linked by time and place, and was built to find signals correlated to increased suicide rates among different cohorts globally, across the socio-economic spectrum\n",
    "3.资料形态为结构性资料\n",
    "4.这组资料想找到跟自杀率上升相关的因素，评估的方式是自杀率预测的准确度\n",
    "\n",
    "## 作业2\n",
    "1.载客率是否上升\n",
    "2.收集车队中每个车的载客率，空载和满载的时间，地段，\n",
    "3.资料形態為log日誌或者結構性數據\n",
    "4.載客率"
   ]
  },
  {
   "cell_type": "markdown",
   "metadata": {},
   "source": [
    "统计指标實作範例\n",
    "常見於回歸模型問題的評估指標\n",
    "Mean Absolute Error(MAE)\n",
    "Mean Squared Error(MSE)\n",
    "常見於分類問題的指標\n",
    "Binary Cross Entropy\n"
   ]
  }
 ],
 "metadata": {
  "anaconda-cloud": {},
  "kernelspec": {
   "display_name": "Python 3",
   "language": "python",
   "name": "python3"
  },
  "language_info": {
   "codemirror_mode": {
    "name": "ipython",
    "version": 3
   },
   "file_extension": ".py",
   "mimetype": "text/x-python",
   "name": "python",
   "nbconvert_exporter": "python",
   "pygments_lexer": "ipython3",
   "version": "3.7.3"
  }
 },
 "nbformat": 4,
 "nbformat_minor": 1
}

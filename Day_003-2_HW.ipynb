# -*- coding: utf-8 -*-
"""
Created on Sun Apr 28 21:00:41 2019

@author: Hannah
"""

"""
with open ("C:/Users/eclou/Documents/2nd-ML100Days/data/example.txt", 'r') as f:
    data = f.readlines()
print(data)

#%%
import pandas as pd
data = []
with open ("C:/Users/eclou/Documents/2nd-ML100Days/data/example.txt", 'r') as f:
    for line in f:
        line = line.replace('\n', '').split(',')
        data.append(line)
data

#%% 
df = pd.DataFrame(data[1:])
df.columns = data[0]
df

#%% Json 格式
import json
df.to_json('C:/Users/eclou/Documents/2nd-ML100Days/data/example01.json')

with open('C:/Users/eclou/Documents/2nd-ML100Days/data/example01.json', 'r') as f:
    j1 = json.load(f)
j1

#%%  將檔案存為 npy檔
import numpy as np
array = np.array(data[1:])
array

np.save(arr = array, file = 'C:/Users/eclou/Documents/2nd-ML100Days/data/example.npy')
array_back = np.load('C:/Users/eclou/Documents/2nd-ML100Days/data/example.npy')
array_back

#%%  存成Pickle檔
import pickle
with open('C:/Users/eclou/Documents/2nd-ML100Days/data/example.pkl', 'wb') as f:
    pickle.dump(file = f, obj = data)
    
with open('C:/Users/eclou/Documents/2nd-ML100Days/data/example.pkl', 'rb') as f:
    pkl_data = pickle.load(f)
pkl_data
"""
#%%
# 安裝 python 3 的requests 模組
import requests
response = requests.get('https://raw.githubusercontent.com/vashineyu/slides_and_others/master/tutorial/examples/imagenet_urls_examples.txt')

print(response.status_code)

#%%
data = response.text
print(len(data))
data[0:100]

#%%字符分割

x = data.split('\n')
print(x)
x[0]

#%% 將txt 轉成pandas
import pandas as pd

df = pd.DataFrame(x)
df.head()

#%% 讀取圖片
from PIL import Image
from io import BytesIO
import numpy as np
import matplotlib.pyplot as plt

first_link = df.loc[[0]]
print(first_link)

response = requests.get(first_link)
img = Image.open(BytesIO(response.content))

plt.imshow(img)
plt.show()

#%%
def img2arr_fromURLs(url_list, resize = False):
    
    return img_list

#%% 
result = img2arr_fromURLs(df[0:5][1].values)
print("Total images that we got :%i" %len(result))

for im_get in result:
    plt.imshow(im_get)
    plt.show()







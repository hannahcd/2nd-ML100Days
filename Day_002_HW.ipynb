# -*- coding: utf-8 -*-
"""
Created on Sat Apr 27 21:58:08 2019

@author: eclou
"""

#%%
import os
import numpy as np
import pandas as pd
#%%
# 设定 data_path
dir_data = 'C:/Users/eclou/Documents/2nd-ML100Days/data/suicide-rates-overview-1985-to-2016'

f_app = os.path.join(dir_data, 'master.csv')
print('Path of read in data: %s' %(f_app))
app_train = pd.read_csv(f_app)
#%%
print(pd.read_csv._doc_)# ?pd.read_csv 目前还没有查找出如何调函数的定义

#%% .数据集的行列数 27820*12
df = pd.DataFrame(app_train)
df.shape
#%% 列出所有栏位
list(df.columns.values)
#%%截取部分资料
df.head()
#%%  其他
print(df.dtypes)
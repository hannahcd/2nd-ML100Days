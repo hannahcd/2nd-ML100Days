# -*- coding: utf-8 -*-
"""
Created on Wed May  1 12:41:20 2019

@author: eclou
"""
import os
import numpy as np
import pandas as pd

# 设定data_path，并讀取app_train
dir_data = 'D:/Hannah/work/GitHub/2nd-ML100Days/data/Part01/'
f_app_train = os.path.join(dir_data, 'application_train.csv')
app_train = pd.read_csv(f_app_train)

app_train.head()
#%% 
# 將下列部分資料片段 sub_train 使用 One Hot encoding, 並觀察轉換前後的欄位數量 (使用 shape) 與欄位名稱 (使用 head) 變化
sub_train = pd.DataFrame(app_train['WEEKDAY_APPR_PROCESS_START'])
print(sub_train.shape)
sub_train.head()

app_train.dtypes.value_counts()
app_train.select_dtypes(include=["object"]).apply(pd.Series.nunique, axis = 0)
#%%  One Hot Encoder
# from sklearn.preprocessing import OneHotEncoder
#onehotencoder = OneHotEncoder(categorical_features = [0])
#x = onehotencoder.fit_transform(sub_train).toarray()
app_train1 = pd.get_dummies(sub_train)
app_train1.head()

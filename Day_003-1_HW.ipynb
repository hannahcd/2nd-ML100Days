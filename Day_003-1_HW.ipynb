# -*- coding: utf-8 -*-
"""
Created on Sun Apr 28 20:37:18 2019

@author: Hannah

主旨：百日马拉松第三题:随机产生数值
"""
import pandas as pd
import numpy as np

#%%
data = {'國家':['taiwan', 'US', 'Thailand'],
        '人口':np.random.rand(3)
        }
data = pd.DataFrame(data)
print(data)

#data.loc[data['人口'].idmax()]
data[data['人口'] == data['人口'].max()]['國家']
